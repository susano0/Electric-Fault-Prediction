{
 "cells": [
  {
   "cell_type": "code",
   "execution_count": 129,
   "metadata": {},
   "outputs": [],
   "source": [
    "import os\n",
    "import numpy as np\n",
    "import pandas as pd\n",
    "import glob\n",
    "from sklearn.model_selection import train_test_split\n",
    "from sklearn.metrics import f1_score\n",
    "from keras.models import Sequential\n",
    "from keras.layers import Dense,LSTM\n",
    "import matplotlib.pyplot as plt\n",
    "from sklearn.metrics import confusion_matrix,classification_report\n",
    "import seaborn as sns\n",
    "#sns.set(style=\"darkgrid\")\n",
    "from keras.models import load_model"
   ]
  },
  {
   "cell_type": "code",
   "execution_count": 2,
   "metadata": {},
   "outputs": [],
   "source": [
    "df = pd.read_excel(\"time_series.xlsx\")"
   ]
  },
  {
   "cell_type": "code",
   "execution_count": 3,
   "metadata": {},
   "outputs": [],
   "source": [
    "df = df.iloc[:,1:2881]"
   ]
  },
  {
   "cell_type": "code",
   "execution_count": 4,
   "metadata": {},
   "outputs": [],
   "source": [
    "df = df.dropna()"
   ]
  },
  {
   "cell_type": "code",
   "execution_count": 5,
   "metadata": {},
   "outputs": [],
   "source": [
    "df = df.reset_index(drop=True)"
   ]
  },
  {
   "cell_type": "code",
   "execution_count": 6,
   "metadata": {},
   "outputs": [],
   "source": [
    "#display(df)"
   ]
  },
  {
   "cell_type": "code",
   "execution_count": 7,
   "metadata": {},
   "outputs": [],
   "source": [
    "def isSubArray(A, B, n, m, st):\n",
    "    ii = st\n",
    "    j = 0\n",
    "    while (ii < n and j < m): \n",
    "        if (A[ii] == B[j]): \n",
    "            ii += 1 \n",
    "            j += 1 \n",
    "            if (j == m): \n",
    "                return ii,True\n",
    "        else: \n",
    "            ii = ii - j + 1 \n",
    "            j = 0 \n",
    "    return ii,False "
   ]
  },
  {
   "cell_type": "code",
   "execution_count": 8,
   "metadata": {},
   "outputs": [],
   "source": [
    "l = []\n",
    "for i in df.index:\n",
    "    xx = df.iloc[i][:250].values\n",
    "    r = isSubArray(xx.tolist(),[0,0,0,0], 250, 4,0)\n",
    "    if(r[1]):\n",
    "        l.append((i, r[0]))                      # i=index, r[0]='timestamp', r[1]=fault\n",
    "l = pd.DataFrame(l)"
   ]
  },
  {
   "cell_type": "code",
   "execution_count": 9,
   "metadata": {},
   "outputs": [],
   "source": [
    "df = df.drop(l[0])"
   ]
  },
  {
   "cell_type": "code",
   "execution_count": 10,
   "metadata": {},
   "outputs": [],
   "source": [
    "df = df.reset_index(drop=True)"
   ]
  },
  {
   "cell_type": "code",
   "execution_count": 11,
   "metadata": {},
   "outputs": [],
   "source": [
    "#df"
   ]
  },
  {
   "cell_type": "markdown",
   "metadata": {},
   "source": [
    "# faults"
   ]
  },
  {
   "cell_type": "code",
   "execution_count": 12,
   "metadata": {},
   "outputs": [],
   "source": [
    "l = []\n",
    "for i in df.index:\n",
    "    xx = df.iloc[i][250:].values\n",
    "    r = isSubArray(xx.tolist(),[0,0,0,0], len(xx), 4,0)\n",
    "    if(r[1]):\n",
    "        l.append((i, r[0]))\n",
    "l = pd.DataFrame(l)"
   ]
  },
  {
   "cell_type": "code",
   "execution_count": 13,
   "metadata": {
    "scrolled": true
   },
   "outputs": [],
   "source": [
    "# l: 0=index, 1='timestamp', 2=fault\n",
    "X_fault_indices = pd.DataFrame(zip(l[0], l[1], l[1].apply(lambda t: list(range(t-4, t+250-4))))) # l[1] is already fault-250\n",
    "X_fault = []\n",
    "for i in X_fault_indices.values:\n",
    "    X_fault.append([i[0], list(df.iloc[i[0], i[2]])])\n",
    "    \n",
    "X_fault = pd.DataFrame(X_fault)                 # 0 - df index for future use\n",
    "X_fault = pd.DataFrame(list(X_fault[1].values))"
   ]
  },
  {
   "cell_type": "markdown",
   "metadata": {},
   "source": [
    "y is just an list of ones. test_train_split() will divide properly"
   ]
  },
  {
   "cell_type": "markdown",
   "metadata": {},
   "source": [
    "# no fault\n",
    "selected randomly from !l"
   ]
  },
  {
   "cell_type": "code",
   "execution_count": 14,
   "metadata": {
    "scrolled": false
   },
   "outputs": [],
   "source": [
    "mask = pd.Series(len(df) * [True])\n",
    "mask[l[0]] = False\n",
    "no_faults = df[mask]"
   ]
  },
  {
   "cell_type": "code",
   "execution_count": 15,
   "metadata": {},
   "outputs": [],
   "source": [
    "def no_faults_fun():\n",
    "    X_no_faults = []\n",
    "\n",
    "    for i in no_faults.index:\n",
    "        r = np.random.randint(df.shape[1] - 250)\n",
    "        X_no_faults.append([i, list(df.iloc[i,r:r+250])])\n",
    "\n",
    "    return pd.DataFrame(list( pd.DataFrame(X_no_faults)[1].values ))\n",
    "X_no_faults = no_faults_fun()"
   ]
  },
  {
   "cell_type": "code",
   "execution_count": 16,
   "metadata": {},
   "outputs": [],
   "source": [
    "X = pd.concat([X_fault, X_no_faults])\n",
    "y = pd.DataFrame([1]*len(X_fault) + [0]*len(X_no_faults))"
   ]
  },
  {
   "cell_type": "code",
   "execution_count": 100,
   "metadata": {},
   "outputs": [],
   "source": [
    "x_train, x_test, y_train, y_test = train_test_split(X, y, test_size=0.2)"
   ]
  },
  {
   "cell_type": "code",
   "execution_count": 101,
   "metadata": {},
   "outputs": [],
   "source": [
    "x_train = x_train.reset_index(drop=True)\n",
    "y_train = y_train.reset_index(drop=True)\n",
    "\n",
    "x_train = pd.concat([x_train, no_faults_fun()]).reset_index(drop=True)\n",
    "y_train = pd.concat([y_train, pd.DataFrame([0]*len(X_no_faults))]).reset_index(drop=True)"
   ]
  },
  {
   "cell_type": "code",
   "execution_count": 102,
   "metadata": {
    "scrolled": true
   },
   "outputs": [],
   "source": [
    "mask = y_train[0]==1\n",
    "x_train = pd.concat([x_train, x_train[mask]]).reset_index(drop=True)\n",
    "y_train = pd.concat([y_train, y_train[mask]]).reset_index(drop=True)\n",
    "#mask = y_train==1\n",
    "#x_train = pd.concat([x_train, x_train[mask]])\n",
    "#y_train = pd.concat([y_train, y_train[mask]])"
   ]
  },
  {
   "cell_type": "code",
   "execution_count": 103,
   "metadata": {
    "scrolled": true
   },
   "outputs": [
    {
     "data": {
      "text/plain": [
       "0.6256038647342995"
      ]
     },
     "execution_count": 103,
     "metadata": {},
     "output_type": "execute_result"
    }
   ],
   "source": [
    "len(y_train[y_train[0]==0])/len(y_train)"
   ]
  },
  {
   "cell_type": "code",
   "execution_count": 104,
   "metadata": {},
   "outputs": [],
   "source": [
    "x_train = np.array(x_train).reshape(x_train.shape[0], x_train.shape[1], 1)\n",
    "y_train = np.array(y_train)\n",
    "x_test = np.array(x_test).reshape(x_test.shape[0], x_test.shape[1], 1)\n",
    "y_test = np.array(y_test)"
   ]
  },
  {
   "cell_type": "code",
   "execution_count": 106,
   "metadata": {},
   "outputs": [
    {
     "data": {
      "text/plain": [
       "((828, 250, 1), (96, 250, 1), (828, 1), (96, 1))"
      ]
     },
     "execution_count": 106,
     "metadata": {},
     "output_type": "execute_result"
    }
   ],
   "source": [
    "x_train.shape,x_test.shape, y_train.shape,y_test.shape"
   ]
  },
  {
   "cell_type": "code",
   "execution_count": 95,
   "metadata": {},
   "outputs": [],
   "source": [
    "model = Sequential()"
   ]
  },
  {
   "cell_type": "code",
   "execution_count": 96,
   "metadata": {},
   "outputs": [],
   "source": [
    "model.add(LSTM(256, input_shape=(x_train.shape[1],1))) # dropout = 0.2,recurrent_dropout=0.2,"
   ]
  },
  {
   "cell_type": "code",
   "execution_count": 97,
   "metadata": {},
   "outputs": [],
   "source": [
    "model.add(Dense(1, activation='sigmoid'))"
   ]
  },
  {
   "cell_type": "code",
   "execution_count": 98,
   "metadata": {},
   "outputs": [],
   "source": [
    "model.compile(loss = 'binary_crossentropy' , optimizer='adam',metrics=['accuracy'])"
   ]
  },
  {
   "cell_type": "code",
   "execution_count": 107,
   "metadata": {},
   "outputs": [
    {
     "name": "stdout",
     "output_type": "stream",
     "text": [
      "Train on 662 samples, validate on 166 samples\n",
      "Epoch 1/50\n",
      "662/662 [==============================] - 3s 5ms/step - loss: 0.7346 - acc: 0.3051 - val_loss: 0.9010 - val_acc: 0.0663\n",
      "Epoch 2/50\n",
      "662/662 [==============================] - 1s 932us/step - loss: 0.6068 - acc: 0.7659 - val_loss: 1.2397 - val_acc: 0.0663\n",
      "Epoch 3/50\n",
      "662/662 [==============================] - 1s 940us/step - loss: 0.5582 - acc: 0.7659 - val_loss: 1.4796 - val_acc: 0.0663\n",
      "Epoch 4/50\n",
      "662/662 [==============================] - 1s 973us/step - loss: 0.5540 - acc: 0.7659 - val_loss: 1.6121 - val_acc: 0.0663\n",
      "Epoch 5/50\n",
      "662/662 [==============================] - 1s 883us/step - loss: 0.5540 - acc: 0.7659 - val_loss: 1.6595 - val_acc: 0.0663\n",
      "Epoch 6/50\n",
      "662/662 [==============================] - 1s 896us/step - loss: 0.5509 - acc: 0.7659 - val_loss: 1.6449 - val_acc: 0.0783\n",
      "Epoch 7/50\n",
      "662/662 [==============================] - 1s 924us/step - loss: 0.5443 - acc: 0.7689 - val_loss: 1.5916 - val_acc: 0.0904\n",
      "Epoch 8/50\n",
      "662/662 [==============================] - 1s 905us/step - loss: 0.5368 - acc: 0.7719 - val_loss: 1.5206 - val_acc: 0.1446\n",
      "Epoch 9/50\n",
      "662/662 [==============================] - 1s 886us/step - loss: 0.5309 - acc: 0.7840 - val_loss: 1.4473 - val_acc: 0.1867\n",
      "Epoch 10/50\n",
      "662/662 [==============================] - 1s 869us/step - loss: 0.5273 - acc: 0.7704 - val_loss: 1.3813 - val_acc: 0.2349\n",
      "Epoch 11/50\n",
      "662/662 [==============================] - 1s 870us/step - loss: 0.5243 - acc: 0.7825 - val_loss: 1.3277 - val_acc: 0.2289\n",
      "Epoch 12/50\n",
      "662/662 [==============================] - 1s 840us/step - loss: 0.5209 - acc: 0.7810 - val_loss: 1.2873 - val_acc: 0.2349\n",
      "Epoch 13/50\n",
      "662/662 [==============================] - 1s 869us/step - loss: 0.5167 - acc: 0.7870 - val_loss: 1.2594 - val_acc: 0.1988\n",
      "Epoch 14/50\n",
      "662/662 [==============================] - 1s 864us/step - loss: 0.5126 - acc: 0.7961 - val_loss: 1.2421 - val_acc: 0.1687\n",
      "Epoch 15/50\n",
      "662/662 [==============================] - 1s 842us/step - loss: 0.5090 - acc: 0.7885 - val_loss: 1.2375 - val_acc: 0.1687\n",
      "Epoch 16/50\n",
      "662/662 [==============================] - 1s 894us/step - loss: 0.5065 - acc: 0.7900 - val_loss: 1.2424 - val_acc: 0.1687\n",
      "Epoch 17/50\n",
      "662/662 [==============================] - 1s 868us/step - loss: 0.5048 - acc: 0.7900 - val_loss: 1.2556 - val_acc: 0.1627\n",
      "Epoch 18/50\n",
      "662/662 [==============================] - 1s 895us/step - loss: 0.5041 - acc: 0.7885 - val_loss: 1.2694 - val_acc: 0.1627\n",
      "Epoch 19/50\n",
      "662/662 [==============================] - 1s 898us/step - loss: 0.5040 - acc: 0.7885 - val_loss: 1.2762 - val_acc: 0.1627\n",
      "Epoch 20/50\n",
      "662/662 [==============================] - 1s 943us/step - loss: 0.5038 - acc: 0.7885 - val_loss: 1.2822 - val_acc: 0.1627\n",
      "Epoch 21/50\n",
      "662/662 [==============================] - 1s 933us/step - loss: 0.5034 - acc: 0.7885 - val_loss: 1.2882 - val_acc: 0.1627\n",
      "Epoch 22/50\n",
      "662/662 [==============================] - 1s 901us/step - loss: 0.5027 - acc: 0.7885 - val_loss: 1.2921 - val_acc: 0.1687\n",
      "Epoch 23/50\n",
      "662/662 [==============================] - 1s 928us/step - loss: 0.5016 - acc: 0.7900 - val_loss: 1.2941 - val_acc: 0.1687\n",
      "Epoch 24/50\n",
      "662/662 [==============================] - 1s 926us/step - loss: 0.5002 - acc: 0.7900 - val_loss: 1.2926 - val_acc: 0.1687\n",
      "Epoch 25/50\n",
      "662/662 [==============================] - 1s 902us/step - loss: 0.4987 - acc: 0.7900 - val_loss: 1.2850 - val_acc: 0.1687\n",
      "Epoch 26/50\n",
      "662/662 [==============================] - 1s 874us/step - loss: 0.4973 - acc: 0.7900 - val_loss: 1.2707 - val_acc: 0.1747\n",
      "Epoch 27/50\n",
      "662/662 [==============================] - 1s 875us/step - loss: 0.4961 - acc: 0.7915 - val_loss: 1.2522 - val_acc: 0.1747\n",
      "Epoch 28/50\n",
      "662/662 [==============================] - 1s 930us/step - loss: 0.4951 - acc: 0.7915 - val_loss: 1.2335 - val_acc: 0.1747\n",
      "Epoch 29/50\n",
      "662/662 [==============================] - 1s 901us/step - loss: 0.4945 - acc: 0.7915 - val_loss: 1.2248 - val_acc: 0.1867\n",
      "Epoch 30/50\n",
      "662/662 [==============================] - 1s 917us/step - loss: 0.4944 - acc: 0.7946 - val_loss: 1.2244 - val_acc: 0.1867\n",
      "Epoch 31/50\n",
      "662/662 [==============================] - 1s 964us/step - loss: 0.4942 - acc: 0.7946 - val_loss: 1.2294 - val_acc: 0.1928\n",
      "Epoch 32/50\n",
      "662/662 [==============================] - 1s 913us/step - loss: 0.4938 - acc: 0.7961 - val_loss: 1.2379 - val_acc: 0.1867\n",
      "Epoch 33/50\n",
      "662/662 [==============================] - 1s 960us/step - loss: 0.4933 - acc: 0.7946 - val_loss: 1.2449 - val_acc: 0.1867\n",
      "Epoch 34/50\n",
      "662/662 [==============================] - 1s 895us/step - loss: 0.4925 - acc: 0.7946 - val_loss: 1.2510 - val_acc: 0.1867\n",
      "Epoch 35/50\n",
      "662/662 [==============================] - 1s 857us/step - loss: 0.4918 - acc: 0.7946 - val_loss: 1.2581 - val_acc: 0.1867\n",
      "Epoch 36/50\n",
      "662/662 [==============================] - 1s 912us/step - loss: 0.4912 - acc: 0.7946 - val_loss: 1.2614 - val_acc: 0.1747\n",
      "Epoch 37/50\n",
      "662/662 [==============================] - 1s 907us/step - loss: 0.4904 - acc: 0.7915 - val_loss: 1.2636 - val_acc: 0.1747\n",
      "Epoch 38/50\n",
      "662/662 [==============================] - 1s 911us/step - loss: 0.4899 - acc: 0.7915 - val_loss: 1.2620 - val_acc: 0.1747\n",
      "Epoch 39/50\n",
      "662/662 [==============================] - 1s 966us/step - loss: 0.4894 - acc: 0.7915 - val_loss: 1.2568 - val_acc: 0.1747\n",
      "Epoch 40/50\n",
      "662/662 [==============================] - 1s 908us/step - loss: 0.4889 - acc: 0.7915 - val_loss: 1.2505 - val_acc: 0.1747\n",
      "Epoch 41/50\n",
      "662/662 [==============================] - 1s 919us/step - loss: 0.4883 - acc: 0.7915 - val_loss: 1.2448 - val_acc: 0.1747\n",
      "Epoch 42/50\n",
      "662/662 [==============================] - 1s 884us/step - loss: 0.4878 - acc: 0.7915 - val_loss: 1.2391 - val_acc: 0.1747\n",
      "Epoch 43/50\n",
      "662/662 [==============================] - 1s 975us/step - loss: 0.4873 - acc: 0.7915 - val_loss: 1.2382 - val_acc: 0.1747\n",
      "Epoch 44/50\n",
      "662/662 [==============================] - 1s 901us/step - loss: 0.4871 - acc: 0.7915 - val_loss: 1.2252 - val_acc: 0.1747\n",
      "Epoch 45/50\n",
      "662/662 [==============================] - 1s 881us/step - loss: 0.4860 - acc: 0.7915 - val_loss: 1.2166 - val_acc: 0.1747\n",
      "Epoch 46/50\n",
      "662/662 [==============================] - 1s 917us/step - loss: 0.4855 - acc: 0.7915 - val_loss: 1.2096 - val_acc: 0.1747\n",
      "Epoch 47/50\n",
      "662/662 [==============================] - 1s 922us/step - loss: 0.4849 - acc: 0.7915 - val_loss: 1.2077 - val_acc: 0.1807\n",
      "Epoch 48/50\n",
      "662/662 [==============================] - 1s 967us/step - loss: 0.4842 - acc: 0.7931 - val_loss: 1.2116 - val_acc: 0.1807\n",
      "Epoch 49/50\n",
      "662/662 [==============================] - 1s 889us/step - loss: 0.4835 - acc: 0.7931 - val_loss: 1.2173 - val_acc: 0.1807\n",
      "Epoch 50/50\n",
      "662/662 [==============================] - 1s 902us/step - loss: 0.4827 - acc: 0.7931 - val_loss: 1.2186 - val_acc: 0.1867\n"
     ]
    }
   ],
   "source": [
    "history = model.fit(x_train,y_train,epochs=50,validation_split=0.2,batch_size=1000)"
   ]
  },
  {
   "cell_type": "code",
   "execution_count": 108,
   "metadata": {},
   "outputs": [
    {
     "data": {
      "image/png": "[encoded data removed]",
      "text/plain": [
       "<Figure size 432x288 with 1 Axes>"
      ]
     },
     "metadata": {
      "needs_background": "light"
     },
     "output_type": "display_data"
    }
   ],
   "source": [
    "plt.plot(history.history['loss'])\n",
    "plt.plot(history.history['val_loss'])\n",
    "plt.title('model loss')\n",
    "plt.ylabel('loss')\n",
    "plt.xlabel('time')\n",
    "plt.legend(['training', 'validation'], loc='upper right')\n",
    "plt.show()"
   ]
  },
  {
   "cell_type": "code",
   "execution_count": 115,
   "metadata": {},
   "outputs": [],
   "source": [
    "pred = model.predict(x_train)"
   ]
  },
  {
   "cell_type": "code",
   "execution_count": 120,
   "metadata": {},
   "outputs": [
    {
     "name": "stdout",
     "output_type": "stream",
     "text": [
      "828/828 [==============================] - 4s 4ms/step\n"
     ]
    },
    {
     "data": {
      "text/plain": [
       "[0.6298177702991283, 0.672705314045655]"
      ]
     },
     "execution_count": 120,
     "metadata": {},
     "output_type": "execute_result"
    }
   ],
   "source": [
    "model.evaluate(x_train, y_train)"
   ]
  },
  {
   "cell_type": "code",
   "execution_count": 121,
   "metadata": {},
   "outputs": [
    {
     "name": "stdout",
     "output_type": "stream",
     "text": [
      "96/96 [==============================] - 0s 5ms/step\n"
     ]
    },
    {
     "data": {
      "text/plain": [
       "[0.6224477688471476, 0.7083333333333334]"
      ]
     },
     "execution_count": 121,
     "metadata": {},
     "output_type": "execute_result"
    }
   ],
   "source": [
    "model.evaluate(x_test, y_test)"
   ]
  },
  {
   "cell_type": "code",
   "execution_count": 125,
   "metadata": {
    "scrolled": true
   },
   "outputs": [],
   "source": [
    "pred_train = model.predict_classes(x_train)"
   ]
  },
  {
   "cell_type": "code",
   "execution_count": 127,
   "metadata": {
    "scrolled": true
   },
   "outputs": [
    {
     "name": "stdout",
     "output_type": "stream",
     "text": [
      "[0.67270531]\n"
     ]
    },
    {
     "data": {
      "text/plain": [
       "Text(0.5, 15.0, 'Predicted label')"
      ]
     },
     "execution_count": 127,
     "metadata": {},
     "output_type": "execute_result"
    },
    {
     "data": {
      "image/png": "[encoded data removed]",
      "text/plain": [
       "<Figure size 432x288 with 2 Axes>"
      ]
     },
     "metadata": {
      "needs_background": "light"
     },
     "output_type": "display_data"
    }
   ],
   "source": [
    "# Accuracy\n",
    "print(sum(pred_train==y_train)/len(y_train))\n",
    "\n",
    "cm = confusion_matrix(y_train,pred_train)\n",
    "sns.heatmap(confusion_matrix(y_train,pred_train),annot=True,fmt='d',cmap=\"Blues\") \n",
    "plt.ylabel('True label')\n",
    "plt.xlabel('Predicted label')"
   ]
  },
  {
   "cell_type": "code",
   "execution_count": 128,
   "metadata": {},
   "outputs": [
    {
     "data": {
      "text/plain": [
       "Text(0.5, 15.0, 'Predicted label')"
      ]
     },
     "execution_count": 128,
     "metadata": {},
     "output_type": "execute_result"
    },
    {
     "data": {
      "image/png": "[encoded data removed]",
      "text/plain": [
       "<Figure size 432x288 with 2 Axes>"
      ]
     },
     "metadata": {
      "needs_background": "light"
     },
     "output_type": "display_data"
    }
   ],
   "source": [
    "pred_test = model.predict_classes(x_test)\n",
    "# Accuracy\n",
    "#print(sum(predict_classes==y_test)/len(y_test))\n",
    "\n",
    "cm = confusion_matrix(y_test,pred_test)\n",
    "sns.heatmap(confusion_matrix(y_test,pred_test),annot=True,fmt='d',cmap=\"Blues\") \n",
    "plt.ylabel('True label')\n",
    "plt.xlabel('Predicted label')"
   ]
  },
  {
   "cell_type": "code",
   "execution_count": 132,
   "metadata": {},
   "outputs": [],
   "source": [
    "f1_score(y_test, pred_test)"
   ]
  },
  {
   "cell_type": "code",
   "execution_count": null,
   "metadata": {},
   "outputs": [],
   "source": []
  }
 ],
 "metadata": {
  "kernelspec": {
   "display_name": "Python 3",
   "language": "python",
   "name": "python3"
  },
  "language_info": {
   "codemirror_mode": {
    "name": "ipython",
    "version": 3
   },
   "file_extension": ".py",
   "mimetype": "text/x-python",
   "name": "python",
   "nbconvert_exporter": "python",
   "pygments_lexer": "ipython3",
   "version": "3.6.8"
  }
 },
 "nbformat": 4,
 "nbformat_minor": 2
}
